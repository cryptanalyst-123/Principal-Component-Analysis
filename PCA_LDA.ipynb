{
 "cells":[
  {
   "cell_type":"markdown",
   "source":[
    "### INSTRUCTIONS - Assignment 3\n",
    "\n",
    "- Submit only the ipynb file with file format main_{UBID}.ipynb (e.g. main_50370999.ipynb), Submission other than this format will get zero.\n",
    "- Don't submit the zip folder.\n",
    "- We will run all the cells from start to finish, if we get any error or cell executing for more than 20 sec. will get zero for that problem. So plesae make sure to double check your ipynb file from start to finish before submitting.\n",
    "- Refrain from using the Sklearn library unless explicitly mentioned.\n",
    "- Do not use numpy's cov, corrcoef, svd built-in functions.\n",
    "- Don't import additional libraries in the file."
   ],
   "attachments":{
    
   },
   "metadata":{
    "datalore":{
     "node_id":"odMcFLBNvDxSrRWybjp6Iq",
     "type":"MD",
     "hide_input_from_viewers":false,
     "hide_output_from_viewers":false,
     "report_properties":{
      
     }
    }
   }
  },
  {
   "cell_type":"markdown",
   "source":[
    "# Dataset information\n",
    "\n",
    "There are a total of 4 datasets for the assignment.\n",
    "\n",
    "For Assignment3, please choose the dataset according to the following rule.\n",
    "\n",
    "Student UBID + 1 modulo 4 = (number between 0 and 3). For example: (50370006 + 1) % 4 = 3\n",
    "\n",
    "### 0 - UCI dermatology dataset (Target_variable: classcode)\n",
    "\n",
    "Link: https:\/\/archive.ics.uci.edu\/ml\/datasets\/Dermatology\n",
    "\n",
    "Features to use -> {erythema, scaling, definite borders, itching}\n",
    "\n",
    "### 1 - MAGIC Gamma Telescope Data Set (Target_variable: class: g,h # gamma (signal), hadron (background))\n",
    "\n",
    "Link: https:\/\/archive.ics.uci.edu\/ml\/datasets\/magic%2Bgamma%2Btelescope\n",
    "\n",
    "Features to use -> {fLength, fWidth, fSize, fConc}\n",
    "\n",
    "### 2 - Automobile dataset (Target_variable: body-type)\n",
    "\n",
    "Link: https:\/\/archive.ics.uci.edu\/ml\/datasets\/Automobile\n",
    "\n",
    "Features to use -> {length, width, height, horsepower}\n",
    "\n",
    "### 3 - Glass dataset (Target_variable: glass_type)\n",
    "\n",
    "Link: https:\/\/archive.ics.uci.edu\/ml\/machine-learning-databases\/glass\/glass.data\n",
    "\n",
    "Features to use -> {refractive_index, sodium, aluminium, silicon}\n",
    "\n",
    "Perform all the tasks in the assignment only for one single dataset."
   ],
   "attachments":{
    
   },
   "metadata":{
    "datalore":{
     "node_id":"aRhUOcDaxQCc3jVamNfH46",
     "type":"MD",
     "hide_input_from_viewers":false,
     "hide_output_from_viewers":false,
     "report_properties":{
      
     }
    }
   }
  },
  {
   "cell_type":"markdown",
   "source":[
    "# Feature information\n",
    "\n",
    "For this assignment, students must start with the 4 features for their respective datasets, use PCA and LDA to get the 2 most significant features as they continue to solve the assignment."
   ],
   "attachments":{
    
   },
   "metadata":{
    "datalore":{
     "node_id":"xwg8GSeiYkD6M9NBaYeJEm",
     "type":"MD",
     "hide_input_from_viewers":false,
     "hide_output_from_viewers":false,
     "report_properties":{
      
     }
    }
   }
  },
  {
   "cell_type":"code",
   "source":[
    "# imports\n",
    "import pandas as pd\n",
    "import numpy as np\n",
    "from sklearn.preprocessing import StandardScaler\n",
    "import matplotlib.pyplot as plt\n",
    "\n",
    "%matplotlib inline"
   ],
   "execution_count":243,
   "outputs":[
    
   ],
   "metadata":{
    "datalore":{
     "node_id":"ymklGk9C986y0UrTtHa2Xq",
     "type":"CODE",
     "hide_input_from_viewers":false,
     "hide_output_from_viewers":false,
     "report_properties":{
      
     }
    }
   }
  },
  {
   "cell_type":"markdown",
   "source":[
    "Step 1: load the dataset"
   ],
   "attachments":{
    
   },
   "metadata":{
    "datalore":{
     "node_id":"h4uqcYhEmJSXeuJDrosVlb",
     "type":"MD",
     "hide_input_from_viewers":false,
     "hide_output_from_viewers":false,
     "report_properties":{
      
     }
    }
   }
  },
  {
   "cell_type":"code",
   "source":[
    "# loads csv file into pandas dataframe\n",
    "df = pd.read_csv('\/data\/workspace_files\/dermatology.csv')"
   ],
   "execution_count":244,
   "outputs":[
    
   ],
   "metadata":{
    "datalore":{
     "node_id":"dSJCvIPbqPihCZjcaKhfqM",
     "type":"CODE",
     "hide_input_from_viewers":false,
     "hide_output_from_viewers":false,
     "report_properties":{
      
     }
    }
   }
  },
  {
   "cell_type":"markdown",
   "source":[
    "# Step 2 - 8: PCA implementation \n"
   ],
   "attachments":{
    
   },
   "metadata":{
    "datalore":{
     "node_id":"kziB2FJnxkezgkRXNSi5O5",
     "type":"MD",
     "hide_input_from_viewers":false,
     "hide_output_from_viewers":false,
     "report_properties":{
      
     }
    }
   }
  },
  {
   "cell_type":"markdown",
   "source":[
    "# Step 2: Normalize the feature columns\n",
    "\n",
    "Hint: you can use the imported StandardScaler"
   ],
   "attachments":{
    
   },
   "metadata":{
    "datalore":{
     "node_id":"DmVYerOpgQdEE0VjQ77kfg",
     "type":"MD",
     "hide_input_from_viewers":false,
     "hide_output_from_viewers":false,
     "report_properties":{
      
     }
    }
   }
  },
  {
   "cell_type":"code",
   "source":[
    "scaler = StandardScaler()\n",
    "df1 = df[['erythema', 'scaling', 'definite borders', 'itching']]\n",
    "new_df = df['melanin incontinence'].values\n",
    "scale = scaler.fit_transform(df1)\n",
    "print(scale)"
   ],
   "execution_count":245,
   "outputs":[
    {
     "name":"stdout",
     "text":[
      "[[-0.1028946   0.29250271 -1.70937509  1.4373339 ]\n",
      " [ 1.40348234  1.71991595  1.60084334  0.55762787]\n",
      " [-0.1028946  -1.13491053  0.49743719  1.4373339 ]\n",
      " ...\n",
      " [ 1.40348234  0.29250271  0.49743719  0.55762787]\n",
      " [-0.1028946  -1.13491053  1.60084334 -0.32207816]\n",
      " [ 1.40348234  0.29250271  0.49743719 -1.2017842 ]]\n"
     ],
     "output_type":"stream"
    }
   ],
   "metadata":{
    "datalore":{
     "node_id":"XJuGqdWpRlg5UylSZvlLD2",
     "type":"CODE",
     "hide_input_from_viewers":false,
     "hide_output_from_viewers":false,
     "report_properties":{
      
     }
    }
   }
  },
  {
   "cell_type":"markdown",
   "source":[
    "# Eigen decomposition : Compute the eigen values and eigen vectors\n",
    "\n",
    "Step 3: \n",
    "Calculate the covariance between the feature columns. This should be a d x d matrix, where d is the number of features. \n",
    "$\\sigma_{jk} = \\frac{1}{n-1}\\sum_{i=1}^{N}\\left(  x_{ij}-\\bar{x}_j \\right)  \\left( x_{ik}-\\bar{x}_k \\right).$\n",
    "\n",
    "In matrix notation:   \n",
    "$\\Sigma = \\frac{1}{n-1} \\left( (\\mathbf{X} - \\mathbf{\\bar{x}})^T\\;(\\mathbf{X} - \\mathbf{\\bar{x}}) \\right)$  \n",
    "where $\\mathbf{\\bar{x}}$ is the mean vector"
   ],
   "attachments":{
    
   },
   "metadata":{
    "datalore":{
     "node_id":"FaMqwpCjYY6OfoDDs88kf7",
     "type":"MD",
     "hide_input_from_viewers":false,
     "hide_output_from_viewers":false,
     "report_properties":{
      
     }
    }
   }
  },
  {
   "cell_type":"code",
   "source":[
    "data = np.array(df[['erythema', 'scaling', 'definite borders', 'itching']])\n",
    "N = data.shape[0]\n",
    "n_dim = data.shape[1]\n",
    "cov_df = np.zeros((n_dim, n_dim))\n",
    "\n",
    "avg = []\n",
    "for i in range(n_dim):\n",
    "    avg.append(sum([d[i] for d in data]) \/ N)\n",
    "\n",
    "for i in range(n_dim):\n",
    "    for j in range(n_dim):\n",
    "        var = 0\n",
    "        for d in data:\n",
    "            var += (d[i] - avg[i]) * (d[j] - avg[j])\n",
    "        var \/= (N - 1)\n",
    "        cov_df[i, j] = var\n",
    "print(cov_df)"
   ],
   "execution_count":246,
   "outputs":[
    {
     "name":"stdout",
     "text":[
      "[[ 0.44189685  0.20307658  0.15690546 -0.03603563]\n",
      " [ 0.20307658  0.49214013  0.22791377 -0.06723557]\n",
      " [ 0.15690546  0.22791377  0.82360207 -0.06463059]\n",
      " [-0.03603563 -0.06723557 -0.06463059  1.29572573]]\n"
     ],
     "output_type":"stream"
    }
   ],
   "metadata":{
    "datalore":{
     "node_id":"K8H7LDhkUzYTtYLpdpa8J9",
     "type":"CODE",
     "hide_input_from_viewers":false,
     "hide_output_from_viewers":false,
     "report_properties":{
      
     }
    }
   }
  },
  {
   "cell_type":"markdown",
   "source":[
    "# Step 4 : Find the eigen values and eigen vectors that represent the feature space.\n",
    "\n",
    "The eigenvectors (principal components) will be used to determine the directions of the new feature space, and the eigenvalues determine their magnitude. In other words, the eigenvalues will explain the variance of the data along the feature axes.\n",
    "\n"
   ],
   "attachments":{
    
   },
   "metadata":{
    "datalore":{
     "node_id":"jYtlQU7SfPaIfySN328nuP",
     "type":"MD",
     "hide_input_from_viewers":false,
     "hide_output_from_viewers":false,
     "report_properties":{
      
     }
    }
   }
  },
  {
   "cell_type":"code",
   "source":[
    "eigen_values, eigen_vectors = np.linalg.eig(cov_df)\n",
    "print(\"Eigenvector: \\n\",eigen_vectors,\"\\n\")\n",
    "print(\"Eigenvalues: \\n\", eigen_values, \"\\n\")"
   ],
   "execution_count":247,
   "outputs":[
    {
     "name":"stdout",
     "text":[
      "Eigenvector: \n",
      " [[-0.7050087   0.60292755  0.35393479 -0.11904313]\n",
      " [ 0.70374156  0.53040471  0.44128176 -0.16937845]\n",
      " [-0.08638516 -0.59551031  0.76329226 -0.23513826]\n",
      " [ 0.01575278  0.02273056  0.3120665   0.94965766]] \n",
      "\n",
      "Eigenvalues: \n",
      " [0.25921618 0.46421271 1.00169826 1.32823763] \n",
      "\n"
     ],
     "output_type":"stream"
    }
   ],
   "metadata":{
    "datalore":{
     "node_id":"97cbpq4fQbPQOtV1rPEWlV",
     "type":"CODE",
     "hide_input_from_viewers":false,
     "hide_output_from_viewers":false,
     "report_properties":{
      
     }
    }
   }
  },
  {
   "cell_type":"markdown",
   "source":[
    "# Step 5 : Consider k=2, Find k axes in the old feature space that contribute most to the variance of the data.\n",
    "\n",
    "where k is the number of principal components, i.e the number of axes in the new feature space.\n",
    "\n",
    "Hint: k largest eigen values and their corressponding eigen vectors"
   ],
   "attachments":{
    
   },
   "metadata":{
    "datalore":{
     "node_id":"xV27hoy187msvNRAwxqhr1",
     "type":"MD",
     "hide_input_from_viewers":false,
     "hide_output_from_viewers":false,
     "report_properties":{
      
     }
    }
   }
  },
  {
   "cell_type":"code",
   "source":[
    "variances = []\n",
    "for i in eigen_values[:2]:\n",
    "     variances.append((i \/ sum(eigen_values)) * 100)\n",
    "print(variances)"
   ],
   "execution_count":248,
   "outputs":[
    {
     "name":"stdout",
     "text":[
      "[8.489525311970503, 15.203316405484191]\n"
     ],
     "output_type":"stream"
    }
   ],
   "metadata":{
    "datalore":{
     "node_id":"HoZ0t94KxKwMdboGRCwF67",
     "type":"CODE",
     "hide_input_from_viewers":false,
     "hide_output_from_viewers":false,
     "report_properties":{
      
     }
    }
   }
  },
  {
   "cell_type":"markdown",
   "source":[
    "# Step 6: Compute the projection matrix\n",
    "\n",
    "The projection matrix will be of dimension d x k. This matrix will be used in the next step to project the data points in the old feature space to the newly calculated feature space.\n",
    "\n",
    "Note: The dimension of old feature space is d, whereas the new feature space is k.\n",
    "\n",
    "Hint: stack the eigen values obtained in the previous step accordingly"
   ],
   "attachments":{
    
   },
   "metadata":{
    "datalore":{
     "node_id":"GpJyh4xN5JHin4ssizMgs4",
     "type":"MD",
     "hide_input_from_viewers":false,
     "hide_output_from_viewers":false,
     "report_properties":{
      
     }
    }
   }
  },
  {
   "cell_type":"code",
   "source":[
    "projection_matrix = (eigen_vectors.T[:][:2]).T\n",
    "print(projection_matrix)"
   ],
   "execution_count":249,
   "outputs":[
    {
     "name":"stdout",
     "text":[
      "[[-0.7050087   0.60292755]\n",
      " [ 0.70374156  0.53040471]\n",
      " [-0.08638516 -0.59551031]\n",
      " [ 0.01575278  0.02273056]]\n"
     ],
     "output_type":"stream"
    }
   ],
   "metadata":{
    "datalore":{
     "node_id":"WoYLOK0eDVFPdVbA1y45N5",
     "type":"CODE",
     "hide_input_from_viewers":false,
     "hide_output_from_viewers":false,
     "report_properties":{
      
     }
    }
   }
  },
  {
   "cell_type":"markdown",
   "source":[
    "# Step 7: Project the data points onto the new feature space\n",
    "\n",
    "The output of this step should be a matrix with dimension, no.of.samples x k\n",
    "\n",
    "Hint: Use the original data points and the projection matrix computed in step 6 to get the new points."
   ],
   "attachments":{
    
   },
   "metadata":{
    "datalore":{
     "node_id":"qPmRjdtFLDslrcHxxRKfxt",
     "type":"MD",
     "hide_input_from_viewers":false,
     "hide_output_from_viewers":false,
     "report_properties":{
      
     }
    }
   }
  },
  {
   "cell_type":"code",
   "source":[
    "pca = scale.dot(projection_matrix)\n",
    "print(pca)"
   ],
   "execution_count":250,
   "outputs":[
    {
     "name":"stdout",
     "text":[
      "[[ 0.44869456  1.14372873]\n",
      " [ 0.09140417  0.81780618]\n",
      " [-0.74647131 -0.92755745]\n",
      " [ 0.21648527 -0.23043938]\n",
      " [ 1.24873093  0.56665975]\n",
      " [ 1.22101529  0.52666733]\n",
      " [-0.56969329  0.3666258 ]\n",
      " [ 0.1627408  -0.82754048]\n",
      " [ 0.31180319  0.42665035]\n",
      " [ 0.31180319  0.42665035]\n",
      " [ 0.17286427  1.4548997 ]\n",
      " [ 0.44869456  1.14372873]\n",
      " [ 0.28204     2.13198565]\n",
      " [ 1.12569737 -0.13042241]\n",
      " [ 0.1627408  -0.82754048]\n",
      " [ 0.47845774 -0.56160656]\n",
      " [ 0.35337664  0.48663899]\n",
      " [ 0.06368853  0.77781375]\n",
      " [-0.84178923 -1.58464719]\n",
      " [ 0.50617337 -0.52161414]\n",
      " [-0.66501121 -0.29046393]\n",
      " [-0.84552358  0.67779678]\n",
      " [ 0.43483674  1.12373251]\n",
      " [ 0.25805872 -0.17045074]\n",
      " [-1.5603655  -0.37048469]\n",
      " [-0.69272684 -0.33045636]\n",
      " [ 0.47845774 -0.56160656]\n",
      " [ 1.32006756 -1.0786869 ]\n",
      " [-0.81780794  0.7177892 ]\n",
      " [ 0.31553754 -1.83579361]\n",
      " [-0.72249002  1.37487894]\n",
      " [-0.6271721   2.03196867]\n",
      " [ 1.16727083 -0.07043377]\n",
      " [ 0.31180319  0.42665035]\n",
      " [-0.59740892  0.32663338]\n",
      " [ 0.33951882  0.46664278]\n",
      " [-0.74647131 -0.92755745]\n",
      " [-0.67886902 -0.31046014]\n",
      " [-0.74647131 -0.92755745]\n",
      " [ 0.15900645  1.43490349]\n",
      " [ 0.369282   -1.23869251]\n",
      " [ 0.369282   -1.23869251]\n",
      " [-0.73634784  1.35488272]\n",
      " [-0.69272684 -0.33045636]\n",
      " [ 1.56818222 -1.4298503 ]\n",
      " [-0.67886902 -0.31046014]\n",
      " [-0.65115339 -0.27046772]\n",
      " [-0.67886902 -0.31046014]\n",
      " [ 1.38766985 -0.46158959]\n",
      " [-1.69725687 -1.08756306]\n",
      " [-1.72702005  0.61777223]\n",
      " [ 0.369282   -1.23869251]\n",
      " [ 0.31180319  0.42665035]\n",
      " [-1.74087787  0.59777601]\n",
      " [ 1.5543244  -1.44984651]\n",
      " [ 0.21648527 -0.23043938]\n",
      " [ 0.39699764 -1.19870009]\n",
      " [-0.65115339 -0.27046772]\n",
      " [ 0.369282   -1.23869251]\n",
      " [ 0.39121574  2.80907159]\n",
      " [ 0.325661    0.44664657]\n",
      " [-0.69272684 -0.33045636]\n",
      " [ 0.47845774 -0.56160656]\n",
      " [ 0.17286427  1.4548997 ]\n",
      " [ 0.44869456  1.14372873]\n",
      " [-0.81780794  0.7177892 ]\n",
      " [ 0.21648527 -0.23043938]\n",
      " [ 0.47845774 -0.56160656]\n",
      " [ 0.09140417  0.81780618]\n",
      " [ 0.06368853  0.77781375]\n",
      " [ 0.23034308 -0.21044317]\n",
      " [-0.78804476 -0.98754609]\n",
      " [ 0.38313982 -1.2186963 ]\n",
      " [ 0.38313982 -1.2186963 ]\n",
      " [-0.76032912 -0.94755366]\n",
      " [-0.72249002  1.37487894]\n",
      " [ 0.23034308 -0.21044317]\n",
      " [-0.76032912 -0.94755366]\n",
      " [ 0.52207874 -2.24694564]\n",
      " [ 0.33951882  0.46664278]\n",
      " [-0.81780794  0.7177892 ]\n",
      " [-0.81780794  0.7177892 ]\n",
      " [-0.66501121 -0.29046393]\n",
      " [-0.83166576  0.69779299]\n",
      " [ 0.31553754 -1.83579361]\n",
      " [ 0.25805872 -0.17045074]\n",
      " [ 0.18672208  1.47489591]\n",
      " [-0.77418694 -0.96754988]\n",
      " [ 1.34983075 -2.78402219]\n",
      " [ 0.369282   -1.23869251]\n",
      " [-0.70863221  1.39487515]\n",
      " [-0.56969329  0.3666258 ]\n",
      " [ 0.41085546 -1.17870387]\n",
      " [ 0.10526198  0.83780239]\n",
      " [-0.65115339 -0.27046772]\n",
      " [-0.56969329  0.3666258 ]\n",
      " [ 0.33951882  0.46664278]\n",
      " [ 0.369282   -1.23869251]\n",
      " [ 0.2442009  -0.19044696]\n",
      " [ 0.31180319  0.42665035]\n",
      " [ 0.325661    0.44664657]\n",
      " [ 0.27396408 -1.89578225]\n",
      " [ 0.09140417  0.81780618]\n",
      " [ 1.34404885  1.22374949]\n",
      " [ 1.29235193 -1.11867933]\n",
      " [ 0.2442009  -0.19044696]\n",
      " [ 0.47845774 -0.56160656]\n",
      " [ 0.38313982 -1.2186963 ]\n",
      " [ 0.14888298 -0.84753669]\n",
      " [-0.72249002  1.37487894]\n",
      " [ 0.25805872 -0.17045074]\n",
      " [ 0.25805872 -0.17045074]\n",
      " [ 0.27396408 -1.89578225]\n",
      " [ 0.14888298 -0.84753669]\n",
      " [ 0.39699764 -1.19870009]\n",
      " [ 0.25805872 -0.17045074]\n",
      " [ 0.33951882  0.46664278]\n",
      " [ 0.14888298 -0.84753669]\n",
      " [ 0.43483674  1.12373251]\n",
      " [ 0.38313982 -1.2186963 ]\n",
      " [ 0.18672208  1.47489591]\n",
      " [ 0.23034308 -0.21044317]\n",
      " [ 0.27396408 -1.89578225]\n",
      " [ 1.16727083 -0.07043377]\n",
      " [-0.81780794  0.7177892 ]\n",
      " [ 0.325661    0.44664657]\n",
      " [ 0.21648527 -0.23043938]\n",
      " [ 0.2442009  -0.19044696]\n",
      " [ 0.46459992 -0.58160278]\n",
      " [-0.56969329  0.3666258 ]\n",
      " [ 0.30167972 -1.85578982]\n",
      " [ 0.25805872 -0.17045074]\n",
      " [-0.83166576  0.69779299]\n",
      " [ 0.31180319  0.42665035]\n",
      " [-0.84552358  0.67779678]\n",
      " [ 0.38313982 -1.2186963 ]\n",
      " [ 0.43483674  1.12373251]\n",
      " [ 0.17286427  1.4548997 ]\n",
      " [ 1.26258875  0.58665597]\n",
      " [ 0.10526198  0.83780239]\n",
      " [ 0.33951882  0.46664278]\n",
      " [ 1.34404885  1.22374949]\n",
      " [-0.80395012  0.73778541]\n",
      " [-0.65115339 -0.27046772]\n",
      " [ 0.31553754 -1.83579361]\n",
      " [ 0.1627408  -0.82754048]\n",
      " [-0.61331429  2.05196488]\n",
      " [ 0.50617337 -0.52161414]\n",
      " [ 0.21648527 -0.23043938]\n",
      " [ 1.43936677  1.88083922]\n",
      " [ 1.5107034   0.23549257]\n",
      " [ 1.23487311  0.54666354]\n",
      " [ 0.18672208  1.47489591]\n",
      " [ 0.21648527 -0.23043938]\n",
      " [-0.60753239 -1.9558068 ]\n",
      " [-0.67886902 -0.31046014]\n",
      " [ 1.43936677  1.88083922]\n",
      " [ 0.18672208  1.47489591]\n",
      " [ 0.33951882  0.46664278]\n",
      " [-0.83166576  0.69779299]\n",
      " [-0.78804476 -0.98754609]\n",
      " [-0.66501121 -0.29046393]\n",
      " [-0.81780794  0.7177892 ]\n",
      " [ 0.4071211   1.08374009]\n",
      " [-0.6271721   2.03196867]\n",
      " [-0.80395012  0.73778541]\n",
      " [ 1.24873093  0.56665975]\n",
      " [ 0.1627408  -0.82754048]\n",
      " [ 0.21648527 -0.23043938]\n",
      " [ 0.1627408  -0.82754048]\n",
      " [ 0.31553754 -1.83579361]\n",
      " [ 1.22101529  0.52666733]\n",
      " [-0.9408415   0.02070704]\n",
      " [ 0.06368853  0.77781375]\n",
      " [-0.81780794  0.7177892 ]\n",
      " [ 0.21648527 -0.23043938]\n",
      " [-0.9408415   0.02070704]\n",
      " [ 0.44869456  1.14372873]\n",
      " [ 1.30620975 -1.09868311]\n",
      " [ 0.2442009  -0.19044696]\n",
      " [ 1.22101529  0.52666733]\n",
      " [-0.84552358  0.67779678]\n",
      " [ 2.37834206  0.27552091]\n",
      " [ 0.21648527 -0.23043938]\n",
      " [ 0.31180319  0.42665035]\n",
      " [ 0.43483674  1.12373251]\n",
      " [-0.61331429  2.05196488]\n",
      " [ 1.43936677  1.88083922]\n",
      " [-0.6271721   2.03196867]\n",
      " [ 0.21648527 -0.23043938]\n",
      " [-0.74647131 -0.92755745]\n",
      " [ 1.16727083 -0.07043377]\n",
      " [-0.81780794  0.7177892 ]\n",
      " [ 0.21648527 -0.23043938]\n",
      " [-0.84552358  0.67779678]\n",
      " [ 0.33951882  0.46664278]\n",
      " [-0.89926804  0.08069568]\n",
      " [-0.84552358  0.67779678]\n",
      " [ 0.21648527 -0.23043938]\n",
      " [-0.75020566  1.33488651]\n",
      " [ 0.49231556 -0.54161035]\n",
      " [ 0.47845774 -0.56160656]\n",
      " [ 0.43483674  1.12373251]\n",
      " [ 0.47845774 -0.56160656]\n",
      " [ 0.43483674  1.12373251]\n",
      " [-0.84552358  0.67779678]\n",
      " [ 1.22101529  0.52666733]\n",
      " [-0.84552358  0.67779678]\n",
      " [ 1.22101529  0.52666733]\n",
      " [ 1.22101529  0.52666733]\n",
      " [-0.84552358  0.67779678]\n",
      " [ 1.22101529  0.52666733]\n",
      " [ 0.25805872 -0.17045074]\n",
      " [ 0.2442009  -0.19044696]\n",
      " [-0.91312586  0.06069947]\n",
      " [ 1.26258875  0.58665597]\n",
      " [ 0.14888298 -0.84753669]\n",
      " [-0.80395012  0.73778541]\n",
      " [-0.75020566  1.33488651]\n",
      " [ 0.31180319  0.42665035]\n",
      " [-1.75473568  0.5777798 ]\n",
      " [ 0.23034308 -0.21044317]\n",
      " [ 0.41085546 -1.17870387]\n",
      " [-0.76032912 -0.94755366]\n",
      " [-0.84178923 -1.58464719]\n",
      " [-0.76032912 -0.94755366]\n",
      " [ 1.38766985 -0.46158959]\n",
      " [ 0.39699764 -1.19870009]\n",
      " [-0.78804476 -0.98754609]\n",
      " [ 0.43483674  1.12373251]\n",
      " [-0.64102992  2.01197246]\n",
      " [ 1.45322458  1.90083544]\n",
      " [-0.6271721   2.03196867]\n",
      " [ 0.23034308 -0.21044317]\n",
      " [-0.9408415   0.02070704]\n",
      " [ 0.23034308 -0.21044317]\n",
      " [-0.91312586  0.06069947]\n",
      " [ 0.325661    0.44664657]\n",
      " [ 0.2442009  -0.19044696]\n",
      " [ 0.23034308 -0.21044317]\n",
      " [-0.65488774  1.99197625]\n",
      " [ 0.25805872 -0.17045074]\n",
      " [-0.80395012  0.73778541]\n",
      " [ 0.2442009  -0.19044696]\n",
      " [-0.78804476 -0.98754609]\n",
      " [ 0.06368853  0.77781375]\n",
      " [ 0.21648527 -0.23043938]\n",
      " [ 0.21648527 -0.23043938]\n",
      " [-0.84552358  0.67779678]\n",
      " [-0.66501121 -0.29046393]\n",
      " [ 0.2442009  -0.19044696]\n",
      " [ 0.2442009  -0.19044696]\n",
      " [ 0.2442009  -0.19044696]\n",
      " [-0.76032912 -0.94755366]\n",
      " [-1.80848015 -0.01932129]\n",
      " [-0.76032912 -0.94755366]\n",
      " [-0.69272684 -0.33045636]\n",
      " [-0.73634784  1.35488272]\n",
      " [ 1.27849411 -1.13867554]\n",
      " [ 0.21648527 -0.23043938]\n",
      " [ 1.27849411 -1.13867554]\n",
      " [ 0.23034308 -0.21044317]\n",
      " [-0.56969329  0.3666258 ]\n",
      " [ 0.41085546 -1.17870387]\n",
      " [ 0.49231556 -0.54161035]\n",
      " [ 0.50617337 -0.52161414]\n",
      " [ 0.325661    0.44664657]\n",
      " [-0.64102992  2.01197246]\n",
      " [ 0.325661    0.44664657]\n",
      " [-0.84552358  0.67779678]\n",
      " [ 0.31180319  0.42665035]\n",
      " [ 0.21648527 -0.23043938]\n",
      " [ 0.15900645  1.43490349]\n",
      " [ 0.13502517 -0.8675329 ]\n",
      " [ 1.29235193 -1.11867933]\n",
      " [ 0.13502517 -0.8675329 ]\n",
      " [-0.81780794  0.7177892 ]\n",
      " [ 0.23034308 -0.21044317]\n",
      " [-0.83166576  0.69779299]\n",
      " [ 0.31180319  0.42665035]\n",
      " [ 1.27849411 -1.13867554]\n",
      " [ 0.31180319  0.42665035]\n",
      " [ 0.15900645  1.43490349]\n",
      " [ 1.13955519 -0.11042619]\n",
      " [ 0.23034308 -0.21044317]\n",
      " [-0.84552358  0.67779678]\n",
      " [ 1.23487311  0.54666354]\n",
      " [-0.77418694 -0.96754988]\n",
      " [ 0.13502517 -0.8675329 ]\n",
      " [-0.83166576  0.69779299]\n",
      " [ 0.14888298 -0.84753669]\n",
      " [ 0.21648527 -0.23043938]\n",
      " [ 1.22101529  0.52666733]\n",
      " [ 0.13502517 -0.8675329 ]\n",
      " [-0.88336268 -1.64463583]\n",
      " [-0.56969329  0.3666258 ]\n",
      " [-0.65115339 -0.27046772]\n",
      " [ 0.30167972 -1.85578982]\n",
      " [-0.55583547  0.38662202]\n",
      " [ 0.35337664  0.48663899]\n",
      " [ 0.1627408  -0.82754048]\n",
      " [-0.81780794  0.7177892 ]\n",
      " [ 0.25805872 -0.17045074]\n",
      " [-0.78804476 -0.98754609]\n",
      " [-1.83619579 -0.05931372]\n",
      " [ 0.21648527 -0.23043938]\n",
      " [-0.69272684 -0.33045636]\n",
      " [-0.77418694 -0.96754988]\n",
      " [-0.69272684 -0.33045636]\n",
      " [ 1.22101529  0.52666733]\n",
      " [-0.84552358  0.67779678]\n",
      " [ 0.23034308 -0.21044317]\n",
      " [ 0.1627408  -0.82754048]\n",
      " [-1.80848015 -0.01932129]\n",
      " [ 0.25805872 -0.17045074]\n",
      " [-0.74647131 -0.92755745]\n",
      " [ 0.14888298 -0.84753669]\n",
      " [ 0.21648527 -0.23043938]\n",
      " [ 0.13502517 -0.8675329 ]\n",
      " [-0.84552358  0.67779678]\n",
      " [ 0.12116735 -0.88752912]\n",
      " [ 0.21648527 -0.23043938]\n",
      " [-0.69272684 -0.33045636]\n",
      " [ 1.12569737 -0.13042241]\n",
      " [ 0.12116735 -0.88752912]\n",
      " [-1.75473568  0.5777798 ]\n",
      " [-0.74647131 -0.92755745]\n",
      " [ 0.31553754 -1.83579361]\n",
      " [-0.5835511   0.34662959]\n",
      " [ 0.2442009  -0.19044696]\n",
      " [-0.78804476 -0.98754609]\n",
      " [ 0.369282   -1.23869251]\n",
      " [ 0.21648527 -0.23043938]\n",
      " [-0.49835665 -1.27872085]\n",
      " [-1.65568341 -1.02757443]\n",
      " [-0.84552358  0.67779678]\n",
      " [ 1.23487311  0.54666354]\n",
      " [-0.59740892  0.32663338]\n",
      " [-1.64555995  1.25486575]\n",
      " [-0.76032912 -0.94755366]\n",
      " [ 0.12116735 -0.88752912]\n",
      " [ 0.49231556 -0.54161035]\n",
      " [-1.66954123 -1.04757064]\n",
      " [ 0.21648527 -0.23043938]\n",
      " [ 0.31180319  0.42665035]\n",
      " [ 0.23034308 -0.21044317]\n",
      " [ 0.23034308 -0.21044317]\n",
      " [ 0.42097892  1.1037363 ]\n",
      " [-0.84552358  0.67779678]\n",
      " [ 0.31180319  0.42665035]\n",
      " [ 1.30620975 -1.09868311]\n",
      " [ 0.25805872 -0.17045074]\n",
      " [-0.80395012  0.73778541]\n",
      " [ 0.39699764 -1.19870009]\n",
      " [-1.66954123 -1.04757064]\n",
      " [ 1.26258875  0.58665597]\n",
      " [ 0.2442009  -0.19044696]\n",
      " [ 0.21648527 -0.23043938]\n",
      " [ 1.23487311  0.54666354]\n",
      " [ 0.4071211   1.08374009]\n",
      " [ 0.325661    0.44664657]\n",
      " [-0.69272684 -0.33045636]\n",
      " [-0.75020566  1.33488651]\n",
      " [-0.81780794  0.7177892 ]\n",
      " [-0.86950486 -1.62463961]\n",
      " [-0.84552358  0.67779678]]\n"
     ],
     "output_type":"stream"
    }
   ],
   "metadata":{
    "datalore":{
     "node_id":"G3RRQBPTUMDCtrlofyHSc4",
     "type":"CODE",
     "hide_input_from_viewers":false,
     "hide_output_from_viewers":false,
     "report_properties":{
      
     }
    }
   }
  },
  {
   "cell_type":"markdown",
   "source":[
    "# Step 8: Plot the new data points as a scatter plot\n",
    "\n",
    "Visualize the new data points on a plot. You can use the imported package matplotlib for this purpose"
   ],
   "attachments":{
    
   },
   "metadata":{
    "datalore":{
     "node_id":"uD8cjSLKd99Gu3FqeXJhpj",
     "type":"MD",
     "hide_input_from_viewers":false,
     "hide_output_from_viewers":false,
     "report_properties":{
      
     }
    }
   }
  },
  {
   "cell_type":"code",
   "source":[
    "plt.title(\"Scatter Plot for Projection Matrix\")\n",
    "plt.plot(pca)"
   ],
   "execution_count":251,
   "outputs":[
    {
     "data":{
      "text\/plain":[
       "[<matplotlib.lines.Line2D at 0x7ff63f5539a0>,\n",
       " <matplotlib.lines.Line2D at 0x7ff63f553a00>]"
      ]
     },
     "metadata":{
      
     },
     "output_type":"display_data"
    },
    {
     "data":{
      "image\/png":"[encoded data removed]"
     },
     "metadata":{
      "image\/png":{
       
      }
     },
     "output_type":"display_data"
    }
   ],
   "metadata":{
    "datalore":{
     "node_id":"fDm9Z8UF97HkpJ3LHzCN1y",
     "type":"CODE",
     "hide_input_from_viewers":false,
     "hide_output_from_viewers":false,
     "report_properties":{
      
     }
    }
   }
  },
  {
   "cell_type":"markdown",
   "source":[
    "# Step 9 - 14 Linear Discriminant Analysis"
   ],
   "attachments":{
    
   },
   "metadata":{
    "datalore":{
     "node_id":"3W39AbnAJaXcvc5auhJuVO",
     "type":"MD",
     "hide_input_from_viewers":false,
     "hide_output_from_viewers":false,
     "report_properties":{
      
     }
    }
   }
  },
  {
   "cell_type":"markdown",
   "source":[
    "# Step 9 - Prepare the dataset"
   ],
   "attachments":{
    
   },
   "metadata":{
    "datalore":{
     "node_id":"ZfY2WcuCynHg5xsLpOO4gW",
     "type":"MD",
     "hide_input_from_viewers":false,
     "hide_output_from_viewers":false,
     "report_properties":{
      
     }
    }
   }
  },
  {
   "cell_type":"code",
   "source":[
    "# Import the dataset again from step 1.\n",
    "\"\"\"\n",
    "Make sure that the data is normalized and all the null values are removed.\n",
    "\"\"\"\n",
    "# Insert code below this line\n",
    "df = pd.read_csv('\/data\/workspace_files\/dermatology.csv')\n",
    "df.head()"
   ],
   "execution_count":252,
   "outputs":[
    {
     "data":{
      "text\/html":[
       "<div>\n",
       "<style scoped>\n",
       "    .dataframe tbody tr th:only-of-type {\n",
       "        vertical-align: middle;\n",
       "    }\n",
       "\n",
       "    .dataframe tbody tr th {\n",
       "        vertical-align: top;\n",
       "    }\n",
       "\n",
       "    .dataframe thead th {\n",
       "        text-align: right;\n",
       "    }\n",
       "<\/style>\n",
       "<table border=\"1\" class=\"dataframe\">\n",
       "  <thead>\n",
       "    <tr style=\"text-align: right;\">\n",
       "      <th><\/th>\n",
       "      <th>Unnamed: 0<\/th>\n",
       "      <th>erythema<\/th>\n",
       "      <th>scaling<\/th>\n",
       "      <th>definite borders<\/th>\n",
       "      <th>itching<\/th>\n",
       "      <th>koebner phenomenon<\/th>\n",
       "      <th>polygonal papules<\/th>\n",
       "      <th>follicular papules<\/th>\n",
       "      <th>oral mucosal involvement<\/th>\n",
       "      <th>knee and elbow involvement<\/th>\n",
       "      <th>...<\/th>\n",
       "      <th>disappearance of the granular layer<\/th>\n",
       "      <th>vacuolisation and damage of basal layer<\/th>\n",
       "      <th>spongiosis<\/th>\n",
       "      <th>saw-tooth appearance of retes<\/th>\n",
       "      <th>follicular horn plug<\/th>\n",
       "      <th>perifollicular parakeratosis<\/th>\n",
       "      <th>inflammatory monoluclear inflitrate<\/th>\n",
       "      <th>band-like infiltrate<\/th>\n",
       "      <th>Age (linear)<\/th>\n",
       "      <th>Classcode<\/th>\n",
       "    <\/tr>\n",
       "  <\/thead>\n",
       "  <tbody>\n",
       "    <tr>\n",
       "      <th>0<\/th>\n",
       "      <td>0<\/td>\n",
       "      <td>2<\/td>\n",
       "      <td>2<\/td>\n",
       "      <td>0<\/td>\n",
       "      <td>3<\/td>\n",
       "      <td>0<\/td>\n",
       "      <td>0<\/td>\n",
       "      <td>0<\/td>\n",
       "      <td>0<\/td>\n",
       "      <td>1<\/td>\n",
       "      <td>...<\/td>\n",
       "      <td>0<\/td>\n",
       "      <td>0<\/td>\n",
       "      <td>3<\/td>\n",
       "      <td>0<\/td>\n",
       "      <td>0<\/td>\n",
       "      <td>0<\/td>\n",
       "      <td>1<\/td>\n",
       "      <td>0<\/td>\n",
       "      <td>55<\/td>\n",
       "      <td>2<\/td>\n",
       "    <\/tr>\n",
       "    <tr>\n",
       "      <th>1<\/th>\n",
       "      <td>1<\/td>\n",
       "      <td>3<\/td>\n",
       "      <td>3<\/td>\n",
       "      <td>3<\/td>\n",
       "      <td>2<\/td>\n",
       "      <td>1<\/td>\n",
       "      <td>0<\/td>\n",
       "      <td>0<\/td>\n",
       "      <td>0<\/td>\n",
       "      <td>1<\/td>\n",
       "      <td>...<\/td>\n",
       "      <td>0<\/td>\n",
       "      <td>0<\/td>\n",
       "      <td>0<\/td>\n",
       "      <td>0<\/td>\n",
       "      <td>0<\/td>\n",
       "      <td>0<\/td>\n",
       "      <td>1<\/td>\n",
       "      <td>0<\/td>\n",
       "      <td>8<\/td>\n",
       "      <td>1<\/td>\n",
       "    <\/tr>\n",
       "    <tr>\n",
       "      <th>2<\/th>\n",
       "      <td>2<\/td>\n",
       "      <td>2<\/td>\n",
       "      <td>1<\/td>\n",
       "      <td>2<\/td>\n",
       "      <td>3<\/td>\n",
       "      <td>1<\/td>\n",
       "      <td>3<\/td>\n",
       "      <td>0<\/td>\n",
       "      <td>3<\/td>\n",
       "      <td>0<\/td>\n",
       "      <td>...<\/td>\n",
       "      <td>0<\/td>\n",
       "      <td>2<\/td>\n",
       "      <td>3<\/td>\n",
       "      <td>2<\/td>\n",
       "      <td>0<\/td>\n",
       "      <td>0<\/td>\n",
       "      <td>2<\/td>\n",
       "      <td>3<\/td>\n",
       "      <td>26<\/td>\n",
       "      <td>3<\/td>\n",
       "    <\/tr>\n",
       "    <tr>\n",
       "      <th>3<\/th>\n",
       "      <td>3<\/td>\n",
       "      <td>2<\/td>\n",
       "      <td>2<\/td>\n",
       "      <td>2<\/td>\n",
       "      <td>0<\/td>\n",
       "      <td>0<\/td>\n",
       "      <td>0<\/td>\n",
       "      <td>0<\/td>\n",
       "      <td>0<\/td>\n",
       "      <td>3<\/td>\n",
       "      <td>...<\/td>\n",
       "      <td>3<\/td>\n",
       "      <td>0<\/td>\n",
       "      <td>0<\/td>\n",
       "      <td>0<\/td>\n",
       "      <td>0<\/td>\n",
       "      <td>0<\/td>\n",
       "      <td>3<\/td>\n",
       "      <td>0<\/td>\n",
       "      <td>40<\/td>\n",
       "      <td>1<\/td>\n",
       "    <\/tr>\n",
       "    <tr>\n",
       "      <th>4<\/th>\n",
       "      <td>4<\/td>\n",
       "      <td>2<\/td>\n",
       "      <td>3<\/td>\n",
       "      <td>2<\/td>\n",
       "      <td>2<\/td>\n",
       "      <td>2<\/td>\n",
       "      <td>2<\/td>\n",
       "      <td>0<\/td>\n",
       "      <td>2<\/td>\n",
       "      <td>0<\/td>\n",
       "      <td>...<\/td>\n",
       "      <td>2<\/td>\n",
       "      <td>3<\/td>\n",
       "      <td>2<\/td>\n",
       "      <td>3<\/td>\n",
       "      <td>0<\/td>\n",
       "      <td>0<\/td>\n",
       "      <td>2<\/td>\n",
       "      <td>3<\/td>\n",
       "      <td>45<\/td>\n",
       "      <td>3<\/td>\n",
       "    <\/tr>\n",
       "  <\/tbody>\n",
       "<\/table>\n",
       "<p>5 rows × 36 columns<\/p>\n",
       "<\/div>"
      ]
     },
     "metadata":{
      
     },
     "output_type":"display_data"
    }
   ],
   "metadata":{
    "datalore":{
     "node_id":"lh2qmRVbPXBjjWkut4gvEf",
     "type":"CODE",
     "hide_input_from_viewers":false,
     "hide_output_from_viewers":false,
     "report_properties":{
      
     }
    }
   }
  },
  {
   "cell_type":"markdown",
   "source":[
    "# Step 10 - Computing d-dimensional mean vectors"
   ],
   "attachments":{
    
   },
   "metadata":{
    "datalore":{
     "node_id":"2hqfgn7kLgyUASzznQgKm5",
     "type":"MD",
     "hide_input_from_viewers":false,
     "hide_output_from_viewers":false,
     "report_properties":{
      
     }
    }
   }
  },
  {
   "cell_type":"markdown",
   "source":[
    "In this first step, we will start off with a simple computation of the mean vectors $\\pmb m_i$, $(i = 1,2,3,..)$ of the different classes:\n",
    "    \n",
    "$\\pmb m_i = \\begin{bmatrix} \n",
    "\\mu_{\\omega_i (\\text{feature 1})}\\\\ \n",
    "\\mu_{\\omega_i (\\text{feature 2})}\\\\ \n",
    "\\mu_{\\omega_i (\\text{feature 3)}}\\\\\n",
    "\\mu_{\\omega_i (\\text{feature 4})}\\\\\n",
    "\\end{bmatrix} \\; , \\quad \\text{with} \\quad i = 1,2,3,...$"
   ],
   "attachments":{
    
   },
   "metadata":{
    "datalore":{
     "node_id":"XQ2XhFYtgGLB56USJOqs1M",
     "type":"MD",
     "hide_input_from_viewers":false,
     "hide_output_from_viewers":false,
     "report_properties":{
      
     }
    }
   }
  },
  {
   "cell_type":"code",
   "source":[
    "mean_vectors = []\n",
    "for cl in range(0,4):\n",
    "    mean_vectors.append(np.mean(df1[new_df==cl], axis=0))\n",
    "print(mean_vectors)"
   ],
   "execution_count":253,
   "outputs":[
    {
     "name":"stdout",
     "text":[
      "[erythema            2.064189\n",
      "scaling             1.831081\n",
      "definite borders    1.415541\n",
      "itching             1.155405\n",
      "dtype: float64, erythema            1.625\n",
      "scaling             1.250\n",
      "definite borders    1.750\n",
      "itching             2.375\n",
      "dtype: float64, erythema            2.108696\n",
      "scaling             1.652174\n",
      "definite borders    2.108696\n",
      "itching             2.260870\n",
      "dtype: float64, erythema            2.2500\n",
      "scaling             1.8125\n",
      "definite borders    2.3125\n",
      "itching             2.1875\n",
      "dtype: float64]\n"
     ],
     "output_type":"stream"
    }
   ],
   "metadata":{
    "datalore":{
     "node_id":"00kW5m2WOvCoaetgQwrDSP",
     "type":"CODE",
     "hide_input_from_viewers":false,
     "hide_output_from_viewers":false,
     "report_properties":{
      
     }
    }
   }
  },
  {
   "cell_type":"markdown",
   "source":[
    "# Step 11 - Computing the Scatter Matrices"
   ],
   "attachments":{
    
   },
   "metadata":{
    "datalore":{
     "node_id":"ImHutBmLz31pLnJBSy7qhi",
     "type":"MD",
     "hide_input_from_viewers":false,
     "hide_output_from_viewers":false,
     "report_properties":{
      
     }
    }
   }
  },
  {
   "cell_type":"markdown",
   "source":[
    "## 11.1 Within-class scatter matrix $S_W$"
   ],
   "attachments":{
    
   },
   "metadata":{
    "datalore":{
     "node_id":"PMaExHafSV6ilkvZf0G17K",
     "type":"MD",
     "hide_input_from_viewers":false,
     "hide_output_from_viewers":false,
     "report_properties":{
      
     }
    }
   }
  },
  {
   "cell_type":"markdown",
   "source":[
    "The **within-class scatter** matrix $S_W$ is computed by the following equation:  \n",
    "\n",
    "$S_W = \\sum\\limits_{i=1}^{c}  S_i$\n",
    "\n",
    "where  \n",
    "$S_i = \\sum\\limits_{\\pmb x \\in D_i}^n (\\pmb x - \\pmb m_i)\\;(\\pmb x - \\pmb m_i)^T$  \n",
    "(scatter matrix for every class) \n",
    "\n",
    "and $\\pmb m_i$ is the mean vector    \n",
    "$\\pmb m_i = \\frac{1}{n_i} \\sum\\limits_{\\pmb x \\in D_i}^n \\; \\pmb x_k$"
   ],
   "attachments":{
    
   },
   "metadata":{
    "datalore":{
     "node_id":"K2XVn06qOL75Y6jIAuyBd2",
     "type":"MD",
     "hide_input_from_viewers":false,
     "hide_output_from_viewers":false,
     "report_properties":{
      
     }
    }
   }
  },
  {
   "cell_type":"code",
   "source":[
    "'''classes = [\"erythema\", \"scaling\", \"definite borders\", \"itching\"]\n",
    "within_class_scatter_matrix = np.zeros((36,36))\n",
    "\n",
    "for c, rows in df.groupby(by=classes):\n",
    "    s = np.zeros((36,36))\n",
    "    for index, row in rows.iterrows():\n",
    "        #x, mc = row.values.reshape(36,1), mean_vectors[c].values.reshape(36,1)\n",
    "        x, mc = np.array(row.values.reshape(36, 1)), np.array(mean_vectors[c].reshape(36, 1))\n",
    "        s += (x - mc).dot((x - mc).T)\n",
    "    \n",
    "    within_class_scatter_matrix += s'''\n",
    "\n",
    "'''S_W = np.zeros((4,4))\n",
    "for cl,mv in zip(range(1,4), mean_vectors):\n",
    "    class_sc_mat = np.zeros((4, 4))                  # scatter matrix for every class\n",
    "    for row in df[new_df == cl]:\n",
    "        row, mv = row.reshape(4,1), mv.reshape(4,1) # make column vectors\n",
    "        class_sc_mat += (row-mv).dot((row-mv).T)\n",
    "    S_W += class_sc_mat                             # sum class scatter matrices\n",
    "print('within-class Scatter Matrix:\\n', S_W)'''\n",
    "S_W = np.zeros((4, 4))\n",
    "for label, mv in zip(range(0, 4), mean_vectors):\n",
    "    class_scatter = np.cov(df1[new_df==label].transpose)\n",
    "    S_W += class_scatter\n",
    "print('Scaled within-class scatter matrix: %sx%s' % (S_W.shape[0], S_W.shape[1]))"
   ],
   "execution_count":254,
   "outputs":[
    {
     "ename":"TypeError",
     "evalue":"TypeError: unsupported operand type(s) for \/: 'method' and 'int'",
     "traceback":[
      "\u001b[0;31m---------------------------------------------------------------------------",
      "Traceback (most recent call last)",
      "    at line 23 in <module>",
      "    at line 0 in cov(*args, **kwargs)",
      "    at line 2518 in cov(m, y, rowvar, bias, ddof, fweights, aweights, dtype)",
      "    at line 0 in average(*args, **kwargs)",
      "    at line 380 in average(a, axis, weights, returned)",
      "    at line 181 in _mean(a, axis, dtype, out, keepdims, where)",
      "TypeError: unsupported operand type(s) for \/: 'method' and 'int'"
     ],
     "output_type":"error"
    }
   ],
   "metadata":{
    "datalore":{
     "node_id":"E1Hy4wzPWZHzUYHSP8J4Mm",
     "type":"CODE",
     "hide_input_from_viewers":false,
     "hide_output_from_viewers":false,
     "report_properties":{
      
     }
    }
   }
  },
  {
   "cell_type":"markdown",
   "source":[
    "## 11.2 Between-class matrix $S_B$"
   ],
   "attachments":{
    
   },
   "metadata":{
    "datalore":{
     "node_id":"XgKjWBlIDRHEBVCgpuNPbw",
     "type":"MD",
     "hide_input_from_viewers":false,
     "hide_output_from_viewers":false,
     "report_properties":{
      
     }
    }
   }
  },
  {
   "cell_type":"markdown",
   "source":[
    "The **between-class scatter** matrix $S_B$ is computed by the following equation:  \n",
    "\n",
    "$S_B =  \\sum\\limits_{i=1}^{c} N_{i} (\\pmb m_i - \\pmb m) (\\pmb m_i - \\pmb m)^T$\n",
    "\n",
    "where  \n",
    " $\\pmb m$ is the overall mean, and $\\pmb m_{i}$ and $N_{i}$ are the sample mean and sizes of the respective classes."
   ],
   "attachments":{
    
   },
   "metadata":{
    "datalore":{
     "node_id":"Aekc11dquxi41P5SPfVKms",
     "type":"MD",
     "hide_input_from_viewers":false,
     "hide_output_from_viewers":false,
     "report_properties":{
      
     }
    }
   }
  },
  {
   "cell_type":"code",
   "source":[
    
   ],
   "execution_count":null,
   "outputs":[
    
   ],
   "metadata":{
    "datalore":{
     "node_id":"0oS9XNgf2FBidNkOK3JbQc",
     "type":"CODE",
     "hide_input_from_viewers":false,
     "hide_output_from_viewers":false,
     "report_properties":{
      
     }
    }
   }
  },
  {
   "cell_type":"markdown",
   "source":[
    "# Step 12: Solving the generalized eigenvalue problem for the matrix $S_{W}^{-1}S_B$"
   ],
   "attachments":{
    
   },
   "metadata":{
    "datalore":{
     "node_id":"tShRfkQCd0mrffhVxNppr5",
     "type":"MD",
     "hide_input_from_viewers":false,
     "hide_output_from_viewers":false,
     "report_properties":{
      
     }
    }
   }
  },
  {
   "cell_type":"markdown",
   "source":[
    "Next, we will solve the generalized eigenvalue problem for the matrix $S_{W}^{-1}S_B$ to obtain the linear discriminants."
   ],
   "attachments":{
    
   },
   "metadata":{
    "datalore":{
     "node_id":"pKGly44ERDzKfaIVf2bP5E",
     "type":"MD",
     "hide_input_from_viewers":false,
     "hide_output_from_viewers":false,
     "report_properties":{
      
     }
    }
   }
  },
  {
   "cell_type":"code",
   "source":[
    
   ],
   "execution_count":null,
   "outputs":[
    
   ],
   "metadata":{
    "datalore":{
     "node_id":"EOyuAgURZPgpEfIphzKz5l",
     "type":"CODE",
     "hide_input_from_viewers":false,
     "hide_output_from_viewers":false,
     "report_properties":{
      
     }
    }
   }
  },
  {
   "cell_type":"markdown",
   "source":[
    "### Checking the eigenvector-eigenvalue calculation"
   ],
   "attachments":{
    
   },
   "metadata":{
    "datalore":{
     "node_id":"JWt0SjWSeSjKK7PlNxmKgK",
     "type":"MD",
     "hide_input_from_viewers":false,
     "hide_output_from_viewers":false,
     "report_properties":{
      
     }
    }
   }
  },
  {
   "cell_type":"markdown",
   "source":[
    "A quick check that the eigenvector-eigenvalue calculation is correct and satisfy the equation:\n",
    "\n",
    "$\\pmb A\\pmb{v} =  \\lambda\\pmb{v}$  \n",
    "\n",
    "<br>\n",
    "where  \n",
    "$\\pmb A = S_{W}^{-1}S_B\\\\\n",
    "\\pmb{v} = \\; \\text{Eigenvector}\\\\\n",
    "\\lambda = \\; \\text{Eigenvalue}$"
   ],
   "attachments":{
    
   },
   "metadata":{
    "datalore":{
     "node_id":"bBLKKGRFHG27sQcxGtjjnU",
     "type":"MD",
     "hide_input_from_viewers":false,
     "hide_output_from_viewers":false,
     "report_properties":{
      
     }
    }
   }
  },
  {
   "cell_type":"code",
   "source":[
    "for i in range(len(eigen_values)):\n",
    "    eigv = eigen_vectors[:,i].reshape(4,1) \n",
    "    np.testing.assert_array_almost_equal(np.linalg.inv(S_W).dot(S_B).dot(eigv), \n",
    "                                         eigen_values[i] * eigv, \n",
    "                                         decimal=6, err_msg='', verbose=True)\n",
    "\n",
    "# This cell must run without errors"
   ],
   "execution_count":26,
   "outputs":[
    {
     "ename":"NameError",
     "evalue":"NameError: name 'S_W' is not defined",
     "traceback":[
      "\u001b[0;31m---------------------------------------------------------------------------",
      "Traceback (most recent call last)",
      "    at line 3 in <module>",
      "NameError: name 'S_W' is not defined"
     ],
     "output_type":"error"
    }
   ],
   "metadata":{
    "datalore":{
     "node_id":"wOUyEOjqLWHQh7XIse9qbw",
     "type":"CODE",
     "hide_input_from_viewers":false,
     "hide_output_from_viewers":false,
     "report_properties":{
      
     }
    }
   }
  },
  {
   "cell_type":"markdown",
   "source":[
    "## Step 13: Selecting linear discriminants for the new feature subspace"
   ],
   "attachments":{
    
   },
   "metadata":{
    "datalore":{
     "node_id":"nF9H9Z4hWXTAtsIdazRvWZ",
     "type":"MD",
     "hide_input_from_viewers":false,
     "hide_output_from_viewers":false,
     "report_properties":{
      
     }
    }
   }
  },
  {
   "cell_type":"markdown",
   "source":[
    "So, in order to decide which eigenvector(s) we want to drop for our lower-dimensional subspace, we have to take a look at the corresponding eigenvalues of the eigenvectors. Roughly speaking, the eigenvectors with the lowest eigenvalues bear the least information about the distribution of the data, and those are the ones we want to drop.  \n",
    "The common approach is to rank the eigenvectors from highest to lowest corresponding eigenvalue and choose the top $k$ eigenvectors."
   ],
   "attachments":{
    
   },
   "metadata":{
    "datalore":{
     "node_id":"MGUHzJ0A1I6ucRqvu57Vyl",
     "type":"MD",
     "hide_input_from_viewers":false,
     "hide_output_from_viewers":false,
     "report_properties":{
      
     }
    }
   }
  },
  {
   "cell_type":"code",
   "source":[
    "# Eigenvalues in decreasing order:"
   ],
   "execution_count":null,
   "outputs":[
    
   ],
   "metadata":{
    "datalore":{
     "node_id":"RzuQoKqogGY6nvLttbA7yj",
     "type":"CODE",
     "hide_input_from_viewers":false,
     "hide_output_from_viewers":false,
     "report_properties":{
      
     }
    }
   }
  },
  {
   "cell_type":"markdown",
   "source":[
    "# 13.1. Choosing *k* eigenvectors with the largest eigenvalues"
   ],
   "attachments":{
    
   },
   "metadata":{
    "datalore":{
     "node_id":"QaJ0GPOmRDd6KBPRwaCk2E",
     "type":"MD",
     "hide_input_from_viewers":false,
     "hide_output_from_viewers":false,
     "report_properties":{
      
     }
    }
   }
  },
  {
   "cell_type":"markdown",
   "source":[
    "After sorting the eigenpairs by decreasing eigenvalues, it is now time to construct our $d \\times k$-dimensional eigenvector matrix $\\pmb W$ (here $4 \\times 2$: based on the 2 most informative eigenpairs) and thereby reducing the initial 4-dimensional feature space into a 2-dimensional feature subspace."
   ],
   "attachments":{
    
   },
   "metadata":{
    "datalore":{
     "node_id":"68X2Ejpjy7wXkCqLY5ATp0",
     "type":"MD",
     "hide_input_from_viewers":false,
     "hide_output_from_viewers":false,
     "report_properties":{
      
     }
    }
   }
  },
  {
   "cell_type":"code",
   "source":[
    "# Tip: use np.hstack"
   ],
   "execution_count":null,
   "outputs":[
    
   ],
   "metadata":{
    "datalore":{
     "node_id":"y7UW5q9i5TgVYtThwwGR4k",
     "type":"CODE",
     "hide_input_from_viewers":false,
     "hide_output_from_viewers":false,
     "report_properties":{
      
     }
    }
   }
  },
  {
   "cell_type":"markdown",
   "source":[
    "# Step 14: Transforming the samples onto the new subspace"
   ],
   "attachments":{
    
   },
   "metadata":{
    "datalore":{
     "node_id":"bbsyl32mONS32KARBul7IH",
     "type":"MD",
     "hide_input_from_viewers":false,
     "hide_output_from_viewers":false,
     "report_properties":{
      
     }
    }
   }
  },
  {
   "cell_type":"markdown",
   "source":[
    "In the last step, we use the $4 \\times 2$-dimensional matrix $\\pmb W$ that we just computed to transform our samples onto the new subspace via the equation   \n",
    "\n",
    "$\\pmb Y = \\pmb X \\times \\pmb W $.\n",
    "\n",
    "(where $\\pmb X$ is a $n \\times d$-dimensional matrix representing the $n$ samples, and $\\pmb Y$ are the transformed $n \\times k$-dimensional samples in the new subspace)."
   ],
   "attachments":{
    
   },
   "metadata":{
    "datalore":{
     "node_id":"09JSlpAMZcUwYrWszECnIj",
     "type":"MD",
     "hide_input_from_viewers":false,
     "hide_output_from_viewers":false,
     "report_properties":{
      
     }
    }
   }
  },
  {
   "cell_type":"code",
   "source":[
    
   ],
   "execution_count":null,
   "outputs":[
    
   ],
   "metadata":{
    "datalore":{
     "node_id":"R2TKA1Uc55gNKlsAAO4tmP",
     "type":"CODE",
     "hide_input_from_viewers":false,
     "hide_output_from_viewers":false,
     "report_properties":{
      
     }
    }
   }
  },
  {
   "cell_type":"markdown",
   "source":[
    "# A comparison of PCA and LDA"
   ],
   "attachments":{
    
   },
   "metadata":{
    "datalore":{
     "node_id":"C2PgOIs6JbvvwEJyTCmfYl",
     "type":"MD",
     "hide_input_from_viewers":false,
     "hide_output_from_viewers":false,
     "report_properties":{
      
     }
    }
   }
  },
  {
   "cell_type":"code",
   "source":[
    "# Sample code for the penguins and Iris dataset visualization.\n",
    "# Do not change the code here.\n",
    "# Code written in this cell is not graded but is used to grade the output of code from previous cells.\n",
    "\n",
    "from sklearn.decomposition import PCA as sklearnPCA\n",
    "\n",
    "sklearn_pca = sklearnPCA(n_components=2)\n",
    "X_pca = sklearn_pca.fit_transform(X)\n",
    "\n",
    "def plot_pca():\n",
    "\n",
    "    ax = plt.subplot(111)\n",
    "    \n",
    "    for label,marker,color in zip(\n",
    "        range(1,4),('^', 's', 'o'),('blue', 'red', 'green')):\n",
    "\n",
    "        plt.scatter(x=X_pca[:,0][y == label],\n",
    "                y=X_pca[:,1][y == label],\n",
    "                marker=marker,\n",
    "                color=color,\n",
    "                alpha=0.5,\n",
    "                label=label_dict[label]\n",
    "                )\n",
    "\n",
    "    plt.xlabel('PC1')\n",
    "    plt.ylabel('PC2')\n",
    "\n",
    "    leg = plt.legend(loc='upper right', fancybox=True)\n",
    "    leg.get_frame().set_alpha(0.5)\n",
    "    plt.title('PCA: projection onto the first 2 principal components')\n",
    "\n",
    "    # hide axis ticks\n",
    "    plt.tick_params(axis=\"both\", which=\"both\", bottom=\"off\", top=\"off\",  \n",
    "            labelbottom=\"on\", left=\"off\", right=\"off\", labelleft=\"on\")\n",
    "\n",
    "    # remove axis spines\n",
    "    ax.spines[\"top\"].set_visible(False)  \n",
    "    ax.spines[\"right\"].set_visible(False) \n",
    "    ax.spines[\"bottom\"].set_visible(False) \n",
    "    ax.spines[\"left\"].set_visible(False)    \n",
    "    \n",
    "    plt.tight_layout\n",
    "    plt.grid()\n",
    "    \n",
    "    plt.show()"
   ],
   "execution_count":null,
   "outputs":[
    
   ],
   "metadata":{
    "datalore":{
     "node_id":"Z2Xr5CjIBH7QD4rdSwmp72",
     "type":"CODE",
     "hide_input_from_viewers":false,
     "hide_output_from_viewers":false,
     "report_properties":{
      
     }
    }
   }
  },
  {
   "cell_type":"code",
   "source":[
    "plot_pca()\n",
    "plot_step_lda()"
   ],
   "execution_count":null,
   "outputs":[
    
   ],
   "metadata":{
    "datalore":{
     "node_id":"2ikaOGIJrLx4rywQBAMSxB",
     "type":"CODE",
     "hide_input_from_viewers":false,
     "hide_output_from_viewers":false,
     "report_properties":{
      
     }
    }
   }
  },
  {
   "cell_type":"code",
   "source":[
    "# Created by Naresh Kumar Devulapally and Sriram Rangarajan"
   ],
   "execution_count":null,
   "outputs":[
    
   ],
   "metadata":{
    "datalore":{
     "node_id":"8zUxYbJON33uHISLwd6U9Q",
     "type":"CODE",
     "hide_input_from_viewers":false,
     "hide_output_from_viewers":false,
     "report_properties":{
      
     }
    }
   }
  }
 ],
 "metadata":{
  "kernelspec":{
   "display_name":"Python",
   "language":"python",
   "name":"python"
  },
  "datalore":{
   "version":1,
   "computation_mode":"JUPYTER",
   "package_manager":"pip",
   "base_environment":"default",
   "packages":[
    
   ]
  }
 },
 "nbformat":4,
 "nbformat_minor":4
}